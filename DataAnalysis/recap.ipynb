{
 "cells": [
  {
   "cell_type": "markdown",
   "metadata": {},
   "source": [
    "### Recap\n",
    "\n",
    "We developed the **Python** function below to return a numpy array of voltage values, after converting the readings from the Arduino to an appropriate numeric data-type. "
   ]
  },
  {
   "cell_type": "code",
   "execution_count": 2,
   "metadata": {},
   "outputs": [],
   "source": [
    "import numpy\n",
    "import serial\n",
    "\n",
    "def read_arduino(number_readings=1, data_type=numpy.float32, error_value=numpy.NaN,\n",
    "                 serial_port='/dev/cu.usbmodem141301', baud_rate=9600, timeout=2, \n",
    "                 terminator='\\r\\n', startup_message='Yours sincerely, Arduino'): \n",
    "    '''\n",
    "    Returns number_readings (default 1) voltage measurements from Arduino attached to \n",
    "    serial_port at baud_rate with specified timeout.\n",
    "    Each voltage reading from Arduino should be terminated with terminator (string), and \n",
    "    it should give a suitable startup message (string).  \n",
    "    Returns a numpy array of length number_readings, of type data_type. \n",
    "    Returns element with error_value if value cannot be converted to type data_type.\n",
    "    '''\n",
    "    if number_readings < 1: number_readings = 1 # need at least 1 reading!\n",
    "    numeric_values = numpy.zeros((number_readings,), dtype=data_type)\n",
    "    \n",
    "    import serial\n",
    "    with serial.Serial(port=serial_port, baudrate=baud_rate, timeout=timeout) as arduino:\n",
    "        # Connect, and read until distinctive startup_message\n",
    "        # Remember that exiting the 'with' block closes the connection automatically.\n",
    "        arduino.read_until(startup_message.encode()) # string.encode() -> bytearray\n",
    "        for i in range(number_readings): \n",
    "            value = arduino.read_until(terminator.encode()) # string.encode() -> bytearray\n",
    "            try: # try to convert returned value to type data_type\n",
    "                numeric_values[i] = data_type(value.decode().strip())\n",
    "            except ValueError: # If we fail to convert data to type data_type, then\n",
    "                numeric_values[i] = error_value # return error_value instead.\n",
    "    return numeric_values"
   ]
  },
  {
   "cell_type": "markdown",
   "metadata": {},
   "source": [
    "Remember to change the default value of `serial_port` to the correct value for your computer/Arduino combination!"
   ]
  },
  {
   "cell_type": "code",
   "execution_count": 3,
   "metadata": {},
   "outputs": [
    {
     "name": "stdout",
     "output_type": "stream",
     "text": [
      "voltages:  [3.28 3.28 3.28 3.28 3.28 3.28 3.28 3.28 3.28 3.28]\n"
     ]
    }
   ],
   "source": [
    "voltages = read_arduino(number_readings=10)\n",
    "\n",
    "print('voltages: ', voltages)"
   ]
  },
  {
   "cell_type": "code",
   "execution_count": 5,
   "metadata": {},
   "outputs": [],
   "source": [
    "%matplotlib inline\n",
    "import matplotlib.pyplot as plt\n",
    "\n",
    "def plot_signal(signal):\n",
    "    '''\n",
    "    Plots a graph of the numpy array 'signal'.\n",
    "    '''\n",
    "    mean = numpy.mean(signal) \n",
    "    std_error = numpy.std(signal)/numpy.sqrt(len(signal))\n",
    "    \n",
    "    plt.figure(figsize=(10,2))\n",
    "    plt.plot(signal, marker='o', linestyle='none')\n",
    "    plt.axhline(mean-std_error, color='r')\n",
    "    plt.axhline(mean, color='k')\n",
    "    plt.axhline(mean+std_error, color='r')\n",
    "    plt.xlabel('Sample no.'); plt.ylabel('ADC0 voltage (V)')\n",
    "    plt.show()"
   ]
  },
  {
   "cell_type": "code",
   "execution_count": 6,
   "metadata": {},
   "outputs": [
    {
     "data": {
      "image/png": "[encoded data removed]",
      "text/plain": [
       "<Figure size 720x144 with 1 Axes>"
      ]
     },
     "metadata": {
      "needs_background": "light"
     },
     "output_type": "display_data"
    }
   ],
   "source": [
    "plot_signal(voltages)"
   ]
  },
  {
   "cell_type": "code",
   "execution_count": 7,
   "metadata": {},
   "outputs": [
    {
     "data": {
      "image/png": "[encoded data removed]",
      "text/plain": [
       "<Figure size 720x144 with 1 Axes>"
      ]
     },
     "metadata": {
      "needs_background": "light"
     },
     "output_type": "display_data"
    }
   ],
   "source": [
    "voltages = read_arduino(number_readings=50)\n",
    "plot_signal(voltages)"
   ]
  },
  {
   "cell_type": "code",
   "execution_count": null,
   "metadata": {},
   "outputs": [],
   "source": []
  }
 ],
 "metadata": {
  "interpreter": {
   "hash": "a63835449b2af8116fa29c674c1c0f8c9a4abff92c3ce3472a2731c5291f1c01"
  },
  "kernelspec": {
   "display_name": "Python 3.8.5 64-bit ('venv': venv)",
   "name": "python3"
  },
  "language_info": {
   "codemirror_mode": {
    "name": "ipython",
    "version": 3
   },
   "file_extension": ".py",
   "mimetype": "text/x-python",
   "name": "python",
   "nbconvert_exporter": "python",
   "pygments_lexer": "ipython3",
   "version": "3.8.5"
  }
 },
 "nbformat": 4,
 "nbformat_minor": 2
}
